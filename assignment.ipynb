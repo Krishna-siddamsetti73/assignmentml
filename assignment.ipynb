{
 "cells": [
  {
   "cell_type": "code",
   "execution_count": null,
   "id": "1ba6d1cb",
   "metadata": {},
   "outputs": [],
   "source": [
    "import os\n",
    "import matplotlib.pyplot as plt\n",
    "import seaborn as sns\n",
    "import numpy as np\n",
    "\n",
    "# Path to the folder containing CSV files\n",
    "folder_path = 'archive\\cleaned_dataset\\data'\n",
    "\n",
    "# List all CSV files in the folder\n",
    "csv_files = [f for f in os.listdir(folder_path) if f.endswith('.csv')]\n",
    "print(csv_files)"
   ]
  },
  {
   "cell_type": "code",
   "execution_count": null,
   "id": "0de0c834",
   "metadata": {},
   "outputs": [],
   "source": [
    "import pandas as pd\n",
    "\n",
    "# Inspect the first few rows of each CSV file\n",
    "for filename in csv_files[:5]:  # Change the range to inspect more files\n",
    "    file_path = os.path.join(folder_path, filename)\n",
    "    df = pd.read_csv(file_path)\n",
    "    print(f\"Contents of {filename}:\")\n",
    "    print(df.head())  # Display the first few rows\n",
    "    print(df.columns)  # Display the column names\n",
    "    print(\"\\n\")"
   ]
  },
  {
   "cell_type": "code",
   "execution_count": null,
   "id": "489805a9",
   "metadata": {},
   "outputs": [],
   "source": [
    "# List to hold relevant files\n",
    "relevant_files = []\n",
    "\n",
    "# Check each file for required columns\n",
    "for filename in csv_files:\n",
    "    file_path = os.path.join(folder_path, filename)\n",
    "    df = pd.read_csv(file_path)\n",
    "    \n",
    "    # Check if all required columns are present\n",
    "    required_columns = ['Voltage_measured', 'Current_measured', 'Temperature_measured', \n",
    "                        'Current_charge', 'Voltage_charge', 'Time']\n",
    "    \n",
    "    if all(col in df.columns for col in required_columns):\n",
    "        relevant_files.append(filename)\n",
    "\n",
    "print(\"Relevant CSV files:\")\n",
    "print(relevant_files)"
   ]
  },
  {
   "cell_type": "code",
   "execution_count": null,
   "id": "4025e6fd",
   "metadata": {},
   "outputs": [],
   "source": [
    "# Load relevant CSV files into a single DataFrame\n",
    "dataframes = []\n",
    "combined_data=[]\n",
    "for filename in relevant_files:\n",
    "    file_path = os.path.join(folder_path, filename)\n",
    "    df = pd.read_csv(file_path)\n",
    "    dataframes.append(df)\n",
    "\n",
    "# Concatenate all DataFrames into one\n",
    "combined_data = pd.concat(dataframes, ignore_index=True)\n",
    "combined_data['Current_measured'].replace(0, pd.NA, inplace=True)\n",
    "combined_data['Impedance'] = combined_data['Voltage_measured'] / combined_data['Current_measured']\n",
    "\n",
    "# Display the first few rows of the updated DataFrame\n",
    "print(combined_data[['Voltage_measured', 'Current_measured', 'Impedance']].head())\n",
    "\n",
    "# Display the first few rows of the combined DataFrame\n",
    "print(combined_data.head())\n",
    "# Check for missing values\n",
    "print(combined_data.isnull().sum())\n",
    "# Option 1: Drop rows with missing values\n",
    "combined_data.dropna(inplace=True)\n",
    "combined_data['dQ'] = combined_data['Current_charge'].diff()  # Change in charge\n",
    "combined_data['dV'] = combined_data['Voltage_measured'].diff()  # Change in voltage\n",
    "\n",
    "# Calculate incremental capacity (dQ/dV)\n",
    "# Avoid division by zero by replacing dV with NaN where dV is zero\n",
    "combined_data['dV'].replace(0, pd.NA, inplace=True)\n",
    "combined_data['dQ/dV'] = combined_data['dQ'] / combined_data['dV']\n",
    "\n",
    "# Drop rows with NaN values in dQ/dV for plotting\n",
    "incremental_capacity_data = combined_data.dropna(subset=['dQ/dV'])\n",
    "\n",
    "# Option 2: Fill missing values with the mean (for numerical columns)\n",
    "combined_data.fillna(combined_data.mean(), inplace=True)\n",
    "total_capacity = np.trapz(incremental_capacity_data['dQ/dV'], incremental_capacity_data['Voltage_measured'])\n",
    "\n",
    "# Add the total capacity to the dataset\n",
    "combined_data['Total_Capacity'] = total_capacity\n",
    "# Example: Convert 'Time' to datetime if it's in string format\n",
    "combined_data['Time'] = pd.to_datetime(combined_data['Time'], unit='s')  # Adjust as necessary"
   ]
  },
  {
   "cell_type": "code",
   "execution_count": null,
   "id": "e13a4627",
   "metadata": {},
   "outputs": [],
   "source": [
    "# Descriptive statistics\n",
    "print(combined_data.describe())"
   ]
  },
  {
   "cell_type": "code",
   "execution_count": null,
   "id": "f1a0c5db",
   "metadata": {},
   "outputs": [],
   "source": [
    "\n",
    "# Histogram of Voltage_measured\n",
    "plt.figure(figsize=(10, 6))\n",
    "sns.histplot(combined_data['Voltage_measured'], bins=30, kde=True)\n",
    "plt.title('Distribution of Voltage Measured')\n",
    "plt.xlabel('Voltage (V)')\n",
    "plt.ylabel('Frequency')\n",
    "plt.show()"
   ]
  },
  {
   "cell_type": "code",
   "execution_count": null,
   "id": "621636f6",
   "metadata": {},
   "outputs": [],
   "source": [
    "# Correlation matrix\n",
    "correlation_matrix = combined_data.corr()\n",
    "plt.figure(figsize=(12, 8))\n",
    "sns.heatmap(correlation_matrix, annot=True, fmt=\".2f\", cmap='coolwarm')\n",
    "plt.title('Correlation Matrix')\n",
    "plt.show()"
   ]
  },
  {
   "cell_type": "code",
   "execution_count": null,
   "id": "3daee2f2",
   "metadata": {},
   "outputs": [],
   "source": [
    "# Assuming you have calculated impedance\n",
    "fig = plt.figure()\n",
    "ax = fig.add_subplot(111, projection='3d')\n",
    "ax.scatter(combined_data['Temperature_measured'], combined_data['Impedance'], combined_data.index, c='b', marker='o')\n",
    "ax.set_xlabel('Temperature (°C)')\n",
    "ax.set_ylabel('Impedance (Ohms)')\n",
    "ax.set_zlabel('Aging Cycles')\n",
    "plt.title('3D Plot of Impedance Changes')\n",
    "plt.show()"
   ]
  },
  {
   "cell_type": "markdown",
   "id": "324b51a1",
   "metadata": {},
   "source": [
    "this is the end of task for a 3d plot"
   ]
  },
  {
   "cell_type": "markdown",
   "id": "fb2021e6",
   "metadata": {},
   "source": [
    "this is b part of the assignment "
   ]
  },
  {
   "cell_type": "code",
   "execution_count": null,
   "id": "db5f7f17",
   "metadata": {},
   "outputs": [],
   "source": [
    "fig = plt.figure()\n",
    "ax = fig.add_subplot(111, projection='3d')\n",
    "ax.scatter(incremental_capacity_data['Voltage_measured'], incremental_capacity_data['dQ/dV'], incremental_capacity_data.index, c='r', marker='o')\n",
    "ax.set_xlabel('Voltage')\n",
    "ax.set_ylabel('Incremental Capacity')\n",
    "ax.set_zlabel('Index (Aging Cycles)')\n",
    "plt.title('3D Plot of Incremental Capacity Changes')\n",
    "plt.show()"
   ]
  },
  {
   "cell_type": "markdown",
   "id": "18633426",
   "metadata": {},
   "source": [
    "building a machine learning model that predicts the current capacity of battery from  EIS SIGNATURE"
   ]
  },
  {
   "cell_type": "code",
   "execution_count": 24,
   "id": "9795e103",
   "metadata": {},
   "outputs": [],
   "source": [
    "# Prepare features and target variable\n",
    "X = combined_data[['Voltage_measured', 'Current_measured', 'Temperature_measured', 'Impedance']]  # Example features\n",
    "y = combined_data['Total_Capacity']  # Replace with the actual target variable"
   ]
  },
  {
   "cell_type": "code",
   "execution_count": 25,
   "id": "c92526ce",
   "metadata": {},
   "outputs": [],
   "source": [
    "from sklearn.model_selection import train_test_split\n",
    "\n",
    "X_train, X_test, y_train, y_test = train_test_split(X, y, test_size=0.2, random_state=42)"
   ]
  },
  {
   "cell_type": "code",
   "execution_count": null,
   "id": "ea5512ca",
   "metadata": {},
   "outputs": [],
   "source": [
    "from sklearn .ensemble import RandomForestRegressor\n",
    "\n",
    "# Initialize the model\n",
    "model = RandomForestRegressor(n_estimators=100, random_state=42)\n",
    "\n",
    "# Train the model\n",
    "model.fit(X_train, y_train)"
   ]
  },
  {
   "cell_type": "code",
   "execution_count": null,
   "id": "1e9293fa",
   "metadata": {},
   "outputs": [],
   "source": [
    "from sklearn.metrics import mean_squared_error, r2_score\n",
    "\n",
    "# Make predictions\n",
    "y_pred = model.predict(X_test)\n",
    "\n",
    "# Calculate performance metrics\n",
    "mse = mean_squared_error(y_test, y_pred)\n",
    "r2 = r2_score(y_test, y_pred)\n",
    "\n",
    "print(f'Mean Squared Error: {mse}')\n",
    "print(f'R^2 Score: {r2}')"
   ]
  },
  {
   "cell_type": "code",
   "execution_count": null,
   "id": "a1137199",
   "metadata": {},
   "outputs": [],
   "source": [
    "importances = model.feature_importances_\n",
    "feature_names = X.columns\n",
    "\n",
    "# Create a DataFrame for visualization\n",
    "feature_importance_df = pd.DataFrame({'Feature': feature_names, 'Importance': importances})\n",
    "feature_importance_df = feature_importance_df.sort_values(by='Importance', ascending=False)\n",
    "\n",
    "# Plot feature importance\n",
    "plt.figure(figsize=(10, 6))\n",
    "sns.barplot(x='Importance', y='Feature', data=feature_importance_df)\n",
    "plt.title('Feature Importance')\n",
    "plt.show()"
   ]
  },
  {
   "cell_type": "code",
   "execution_count": 32,
   "id": "bbbe8deb",
   "metadata": {},
   "outputs": [],
   "source": [
    "def predict_current_capacity(voltage, current, temperature, impedance):\n",
    "    # Create a DataFrame for the input values\n",
    "    input_data = pd.DataFrame({\n",
    "        'Voltage_measured': [voltage],\n",
    "        'Current_measured': [current],\n",
    "        'Temperature_measured': [temperature],\n",
    "        'Impedance': [impedance]\n",
    "    })\n",
    "    predicted_capacity = model.predict(input_data)\n",
    "    return predicted_capacity[0]"
   ]
  },
  {
   "cell_type": "code",
   "execution_count": null,
   "id": "f5bbffb8",
   "metadata": {},
   "outputs": [],
   "source": [
    "voltage_input = float(input())\n",
    "current_input = float(input())\n",
    "temperature_input = float(input())\n",
    "impedance_input = float(input())\n",
    "predicted_capacity = predict_current_capacity(voltage_input, current_input, temperature_input, impedance_input)\n",
    "\n",
    "# Display the result\n",
    "print(f\"Predicted Current Capacity: {predicted_capacity:.2f} Ah\")\n"
   ]
  }
 ],
 "metadata": {
  "kernelspec": {
   "display_name": "Python 3",
   "language": "python",
   "name": "python3"
  },
  "language_info": {
   "codemirror_mode": {
    "name": "ipython",
    "version": 3
   },
   "file_extension": ".py",
   "mimetype": "text/x-python",
   "name": "python",
   "nbconvert_exporter": "python",
   "pygments_lexer": "ipython3",
   "version": "3.11.0"
  }
 },
 "nbformat": 4,
 "nbformat_minor": 5
}
